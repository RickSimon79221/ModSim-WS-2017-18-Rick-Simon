{
 "cells": [
  {
   "cell_type": "markdown",
   "metadata": {},
   "source": [
    "## Simulation und Modellierung WS 17/18 Uebung 07 : \n",
    "### Methode der kleinsten quadratischen Abweichungen"
   ]
  },
  {
   "cell_type": "markdown",
   "metadata": {},
   "source": [
    "### <u>Aufgabe 1</u>"
   ]
  },
  {
   "cell_type": "markdown",
   "metadata": {},
   "source": [
    "Fuer die Koordinaten $(x,y)$ eines beliebiegen Kegelschnittes in der Ebene gilt\n",
    "\n",
    "$$\n",
    "        f(x,y) = A x^2 + B xy + C y^2 + D x + E y = 1\n",
    "$$\n",
    "\n",
    "Die Datei `orbit.dat` enthaelt eine Tabelle von $x$ und $y$ Werten, welche messfehlerbehaftete Punkte eines Kegelschnittes sind. \n",
    "\n",
    "\n",
    "- Laden Sie die Daten in ein `numpy` Array und finden Sie die Koeffizienten $A,B,C,D$ und $E$, welche die Summe der quadratischen Abweichungen ueber alle Messpunkte des Ausdrucks auf der linken Seite zur Zahl `1` minimiert.\n",
    "\n",
    "Der Kegelschnitt ist eine geschlossene Kurve, wenn $B^2-4AC<0$ gilt, eine Parabel, wenn $B^2-4AC=0$ und ansonsten eine Hyperbel.\n",
    "\n",
    "- Ist dieser Kegelschnitt eine offene oder geschlossene Kurve?\n",
    "- Zeichnen Sie alle Kurven $y=y(x)$, die die Kegelschnittgleichung erfuellen zusammen mit den Datenpunkten in ein Diagram.\n",
    "\n",
    "*Hinweis* : Sie koennen entweder Kegelschnittgleichung als quadratische Gleichung explizit nach $y$ aufloesen und beide Loesungen dort plotten, wo der Imaginaerteil gleich Null (oder sehr klein) ist, oder die matplotlib Funktion `mpl.contour(X,Y,f(X,Y),[1.0])` mit `X,Y = np.meshgrid(np.linspace(-2,2),np.linspace(-2,2))`, um die Hoehenlinie $f(X,Y)=1$ darzustellen.\n",
    "\n",
    "*Zur Erinnerung* : Die Summe der quadratischen Abweichungen eines ueberbestimmten linearen Gleichungssystems\n",
    "\n",
    "$$\n",
    "    \\mathrm{A}(\\vec{x},\\vec{y}) \\vec{c} = \\vec{b}\n",
    "$$\n",
    "wird durch die Loesung des kleineren linearen Gleichungssystems\n",
    "\n",
    "$$\n",
    "    \\mathrm{A}^\\top\\mathrm{A} \\vec{c} = \\mathrm{A}^\\top\\vec{b}\n",
    "$$\n",
    "minimiert."
   ]
  },
  {
   "cell_type": "code",
   "execution_count": 3,
   "metadata": {
    "collapsed": true
   },
   "outputs": [],
   "source": [
    "from pylab import *\n",
    "%matplotlib inline"
   ]
  },
  {
   "cell_type": "code",
   "execution_count": 67,
   "metadata": {},
   "outputs": [
    {
     "name": "stdout",
     "output_type": "stream",
     "text": [
      "Der Kegelschnitt ist eine geschlossene Kurve\n"
     ]
    },
    {
     "data": {
      "image/png": "[encoded data removed]",
      "text/plain": [
       "<matplotlib.figure.Figure at 0xf875e3a208>"
      ]
     },
     "metadata": {},
     "output_type": "display_data"
    }
   ],
   "source": [
    "############################################################################################\n",
    "# Aufgabenteil 1: Finde die Koeffizienten A,B,C,D,E                                        #\n",
    "############################################################################################\n",
    "\n",
    "# Hier werden Informationen aus der Datei orbit.dat geladen\n",
    "data = np.loadtxt('orbit.dat') # lädt die x- und y-Werte der datei orbit.dat in das array\n",
    "                               # data\n",
    "N = data.shape[0]              # N ist die Anzahl der x- bzw. der y-Werte\n",
    "x = data[:,0]                  # die x-Werte der datei orbit.dat bilden den Vektor x\n",
    "y = data[:,1]                  # die y-Werte der datei orbit.dat bilden den Vektor y\n",
    "\n",
    "\n",
    "# Hier wird aus den x- und y-Werten eine Matrix A erstellt\n",
    "A = np.zeros(5*N)              # A ist ein Vektor mit Nullen der Länge 5*N\n",
    "A.shape = (N,5)                # A wird umgewandelt in eine Matrix mit N Zeilen und\n",
    "                               # 5 Spalten, eine für jeden der Koeffizienten A,B,C,D,E\n",
    "A[:,0] = x**2                  # in der ersten Spalte sind die x-Werte quadriert\n",
    "A[:,1] = x * y                 # in der zweiten Spalte werden x und y multipliziert\n",
    "A[:,2] = y**2                  # in der dritten Spalte sind die y-Werte quadriert\n",
    "A[:,3] = x                     # in der vierten Spalte sind die x-Werte\n",
    "A[:,4] = y                     # in der fünften Spalte sind die y-Werte\n",
    "\n",
    "\n",
    "# Hier werden der Vektor b und die transponierte Matrix A_trans erstellt\n",
    "# die wir zum loesen des Gleichungssystems A*c = b brauchen\n",
    "b = np.ones(N)                 # erstellt den Vektor b der Laenge N voll mit einsen\n",
    "A_trans = A.transpose()        # erstellt die transponierte Matrix A_trans von A\n",
    "\n",
    "\n",
    "# Hier werden der Vektor b_new und die Matrix A_new erstellt\n",
    "# die wir zum loesen des Gleichungssystems A_trans * A *c = A_trans * b brauchen\n",
    "A_new = A_trans.dot(A)              # erstellt die Matrix A_new als Matrixprodukt der\n",
    "                                    # der transponierten Martrix A_trans und A\n",
    "b_new = A_trans.dot(b)              # erstellt den Vektor b_new durch anwenden der\n",
    "                                    # transponierten Matrix A_trans auf b\n",
    "\n",
    "    \n",
    "# Hier wird das lineare Gleichungssystem A_trans * A *c = A_trans * b  bzw. \n",
    "# A_new * c = b_new  nach c aufgeloest. Die Elemente des Vektors c sind die Koeffizienzen\n",
    "# A,B,C,D,E\n",
    "c = np.linalg.solve(A_new,b_new)    # definiert den Vektor c als die Loesung des linearen\n",
    "                                    # Gleichungssystems A_new * c = b_new\n",
    "\n",
    "    \n",
    "############################################################################################\n",
    "# Aufgabenteil 2: Ist der Kegelschnitt offen oder geschlossen                              #\n",
    "############################################################################################\n",
    "\n",
    "# Definiert die Prüfsumme Anhand der Formel in der Aufgabenstellung B^2 - 4AC\n",
    "# und überprüft anhand dieser, ob der Kegelschnitt eine offene Kurve, eine Parabel oder \n",
    "# eine Hyperbel ist\n",
    "pruef = c[1]**2 - 4 * c[0] * c[2]                         # definiert die Prüfsumme anhand\n",
    "                                                          # der Formel B^2 -4AC\n",
    "if pruef < 0:                                             # Wenn die Prüfsumme kleiner als\n",
    "    print(\"Der Kegelschnitt ist eine geschlossene Kurve\") # 0 ist -> geschlossene Kurve\n",
    "elif pruef == 0:                                          # Wenn die Prüfsumme gleich 0\n",
    "    print(\"Der Kegelschnitt ist eine Parabel\")            # ist -> Parabel\n",
    "else:                                                     # Sonst -> Hyperbel\n",
    "    print(\"Der Kegelschnitt ist eine Hyperbel\")           # \n",
    "\n",
    "############################################################################################\n",
    "# Aufgabenteil 3: Zeichnen Sie alle Kurven, die die Kegelschnittgleichung erfuellen        #\n",
    "############################################################################################   \n",
    "\n",
    "# Hier werden 2d-Felder von x- und y-Werten erstellt sowie die Funktion f(x,y) \n",
    "X,Y = np.meshgrid(np.linspace(-2,2),np.linspace(-2,2))       # Die numpy Funktion \n",
    "                                                             # meshgrid(x,y) wird benutzt, \n",
    "                                                             # um aus zwei Containern mit \n",
    "                                                             # x- und y-Werten zwei \n",
    "                                                             # 2d Arrays X und Y zu \n",
    "                                                             # erstellen\n",
    "f = c[0] * X**2 + c[1] * X * Y + c[2] * Y**2 + c[3] * X + c[4] * Y  # definiert f in\n",
    "                                                                    # abhängigkeit von \n",
    "                                                                    # X und Y\n",
    "    \n",
    "# Hier werden nun f und die y-Werte der Datei orbit.dat geplottet\n",
    "fig1, ax1 = plt.subplots(ncols=1,nrows=1)    # erstellt die figure und axes\n",
    "plt.title(\"Orbit\")                           # gibt der Axes den Titel: \"Orbit\"\n",
    "plt.xlabel('$x$')                            # gibt der Axes das Label für die x-Achse: x\n",
    "plt.ylabel('$y$', rotation=0)                # gibt der Axes das Label für die y-Achse: y7\n",
    "# plottet f im Bereich von X = [-2,2] und Y = [-2,2] mit der colormap \"YlOrRd\"\n",
    "plt.imshow(f,interpolation='none',origin='lower',extent=[-2,2,-2,2],cmap=\"YlOrRd\")\n",
    "colorbar()                                   # fügt eine Farbskalar ein\n",
    "cp = plt.contour(X,Y,f,[1.0], alpha=0.4)     # definiert die Höhenlinie beim Wert f(x,y)=1\n",
    "clabel(cp)                                   # Label fuer Contour Plots\n",
    "plot(x,y,',', label=\"Orbit-Datenpunkte\")     # plottet die y- gegen die x-Werte der Datei\n",
    "                                             # orbit.dat\n",
    "legend()                                     # fügt die Legende ein\n",
    "# Speichert die figure als pdf-Datei \"Orbit.pdf\"\n",
    "fig1.savefig(\"Orbit.pdf\", facecolor='w', edgecolor='w', format='pdf', transparent=False)\n",
    "show()                                       # zeichnet die Graphen etc."
   ]
  },
  {
   "cell_type": "markdown",
   "metadata": {},
   "source": [
    "### <u>Zusatzaufgabe</u>"
   ]
  },
  {
   "cell_type": "markdown",
   "metadata": {},
   "source": [
    "- Schreiben Sie eine Funktion `polyfit(x,y,N=0)`, welche fuer `L` Datenpunkte in den Feldern `x` und `y` die Koeffizienten `c` eines Polynoms \n",
    "$$\n",
    "    y = p(x)= c_0 x^0 + c_1 x^1 + c_2 x^2 + \\dots + c_N x^N\n",
    "$$ \n",
    "`N`ten Grades findet, welches die Summe der quadratischen Abweichungen $\\sum_l (p(x_l)-y_l)^2$ minimiert.\n",
    "- Demonstrieren Sie die Funktion grafisch anhand von `L` $\\gg$ `N` Punkten eines Polynoms, welche zufaellige Abweichungen in $x$ und $y$ Richtung aufweisen. *Hinweis* : `np.random.randn(N)` generiert ein Feld mit N standard normalverteilten Zufallszahlen)\n",
    "- Finden Sie ein Polynom, welches die Daten der ersten Aufgabe gut beschreibt."
   ]
  },
  {
   "cell_type": "code",
   "execution_count": 61,
   "metadata": {},
   "outputs": [],
   "source": []
  },
  {
   "cell_type": "code",
   "execution_count": null,
   "metadata": {
    "collapsed": true
   },
   "outputs": [],
   "source": []
  }
 ],
 "metadata": {
  "kernelspec": {
   "display_name": "Python 3",
   "language": "python",
   "name": "python3"
  },
  "language_info": {
   "codemirror_mode": {
    "name": "ipython",
    "version": 3
   },
   "file_extension": ".py",
   "mimetype": "text/x-python",
   "name": "python",
   "nbconvert_exporter": "python",
   "pygments_lexer": "ipython3",
   "version": "3.6.2"
  }
 },
 "nbformat": 4,
 "nbformat_minor": 1
}
