{
 "cells": [
  {
   "cell_type": "markdown",
   "metadata": {},
   "source": [
    "## Simulation und Modellierung WS17/18 - Uebung 04"
   ]
  },
  {
   "cell_type": "markdown",
   "metadata": {},
   "source": [
    "### Aufgabe 1\n",
    "\n",
    "- Schreiben Sie eine List Comprehension, welche zu einer gegebenen ganzen Zahl `p` eine Liste aller Teiler ausser `1` und `p` erstellt.\n",
    "- Schreiben Sie eine List Comprehension, welche eine Liste aller Primzahlen mit weniger als vier Dezimalziffern erstellt.\n",
    "- Ueberpruefen Sie anhand dieser Listen, ob `377` eine Primzahl ist.\n"
   ]
  },
  {
   "cell_type": "code",
   "execution_count": 57,
   "metadata": {
    "collapsed": false
   },
   "outputs": [
    {
     "name": "stdout",
     "output_type": "stream",
     "text": [
      "[2, 3, 4, 6]\n",
      "[-42, -21, -14, -7, -6, -3, -2, -1, 2, 3, 6, 7, 14, 21]\n",
      "[-18, -12, -9, -6, -4, -3, -2, -1, 2, 3, 4, 6, 9, 12, 18, 36]\n"
     ]
    }
   ],
   "source": [
    "# The following function takes a positiv integer p and gives out a list of all positiv integers, exept for 1 and p,\n",
    "# that divide p without a remainder \n",
    "\n",
    "def teiler(p):                                  \n",
    "    T = [x for x in range(2,p) if p%x == 0]\n",
    "    return(T)\n",
    "\n",
    "####### Example 1 #######\n",
    "print(teiler(12))\n",
    "\n",
    "####### Alternativ #######\n",
    "# It could be argued that, since p is supposed to be a whole number, we have to take negative numbers in account.\n",
    "# If we have to take negativ numbers in account that also applies for the divisor\n",
    "# The following function gives out all the positive and negative integers, exept for 1 and p, \n",
    "# which devide p without remainder.\n",
    "\n",
    "def zteiler(p):\n",
    "    if p>0:                                            # p is positive\n",
    "        T = [x for x in range(2,p) if p%x == 0]        # list of all positive divisors T (except 1 and p)\n",
    "        nT = [-T[n] for n in range(0,len(T))]          # list of all negative devisors nT (except -1 and -p)\n",
    "        T.extend(nT)                                   # adds nT to T\n",
    "        T.append(-1)                                   # adds (-1) to the list of dividers\n",
    "        T.append(-p)                                   # adds (-p) to the list of dividers\n",
    "        T.sort()                                       # arranges the divisors according to their size \n",
    "        return(T)                                      # returns T\n",
    "    \n",
    "    else:                                              # p is negative\n",
    "        T = [x for x in range(p,0) if p%x == 0]        # list of all negative deviders T \n",
    "        nT = [-T[n] for n in range(0,len(T))]          # creates a list nT with the positiv equivalents of T\n",
    "        T.extend(nT)                                   # adds nT to T\n",
    "        T.remove(1)                                    # removes 1 from the list of dividers\n",
    "        T.remove(p)                                    # removes p from the list of dividers\n",
    "        T.sort()                                       # arranges the divisors according to their size \n",
    "        return(T)                                      # returns T\n",
    "    \n",
    "####### Example 2 #######\n",
    "print(zteiler(42))\n",
    "\n",
    "####### Example 3 #######\n",
    "print(zteiler(-36))\n"
   ]
  },
  {
   "cell_type": "code",
   "execution_count": 10,
   "metadata": {
    "collapsed": false
   },
   "outputs": [
    {
     "name": "stdout",
     "output_type": "stream",
     "text": [
      "[1, 2, 3, 5, 7, 11, 13, 17, 19, 23, 29, 31, 37, 41, 43, 47, 53, 59, 61, 67, 71, 73, 79, 83, 89, 97, 101, 103, 107, 109, 113, 127, 131, 137, 139, 149, 151, 157, 163, 167, 173, 179, 181, 191, 193, 197, 199, 211, 223, 227, 229, 233, 239, 241, 251, 257, 263, 269, 271, 277, 281, 283, 293, 307, 311, 313, 317, 331, 337, 347, 349, 353, 359, 367, 373, 379, 383, 389, 397, 401, 409, 419, 421, 431, 433, 439, 443, 449, 457, 461, 463, 467, 479, 487, 491, 499, 503, 509, 521, 523, 541, 547, 557, 563, 569, 571, 577, 587, 593, 599, 601, 607, 613, 617, 619, 631, 641, 643, 647, 653, 659, 661, 673, 677, 683, 691, 701, 709, 719, 727, 733, 739, 743, 751, 757, 761, 769, 773, 787, 797, 809, 811, 821, 823, 827, 829, 839, 853, 857, 859, 863, 877, 881, 883, 887, 907, 911, 919, 929, 937, 941, 947, 953, 967, 971, 977, 983, 991, 997]\n"
     ]
    }
   ],
   "source": [
    "P = [r for r in range(2,1000) if teiler(r)==[] ]       # List P with elements r from 2 to 999 for which th function 'teiler' gives out an empty list.\n",
    "                                                       # Or in other words: a list of numbers that have no dividers except for 1 and r.\n",
    "                                                       # 1 is not in this list because it has only one divider which is 1=p, while for primes p is supposed to be different from 1\n",
    "                                                       # short: 1 is normally not considered prime.\n",
    "print(P)                                               # gives out the list P"
   ]
  },
  {
   "cell_type": "code",
   "execution_count": null,
   "metadata": {
    "collapsed": true
   },
   "outputs": [],
   "source": [
    " #ob 377 eine Primzahl ist? -5"
   ]
  },
  {
   "cell_type": "markdown",
   "metadata": {},
   "source": [
    "### Aufgabe 2\n",
    "\n",
    "Schreiben Sie Python Code, welcher die Gleitkommazahl, welche durch eine gegebene 64 Bitfolge beschrieben wird berechnet. \n",
    "\n",
    "z.B. : `s = \"0100000001011110110111010011110000000111111011100000101100001011\"`\n",
    "\n",
    "*Hinweis :* Sie koennen eine Bitfolge `s` durch `int(s,base=2)` in eine ganze Zahl umwandeln."
   ]
  },
  {
   "cell_type": "code",
   "execution_count": 50,
   "metadata": {
    "collapsed": false
   },
   "outputs": [
    {
     "name": "stdout",
     "output_type": "stream",
     "text": [
      "123.456789\n",
      "0.12345\n"
     ]
    }
   ],
   "source": [
    "# The following function takes a string of 0's and 1's with length 64 and gives out \n",
    "# the equivalent double precision floating point number\n",
    "\n",
    "def gk(z):\n",
    "    if z==\"0000000000000000000000000000000000000000000000000000000000000000\":     # there are some bit strings with a defined value, such as 0 or infinity\n",
    "        return(0)                                                                 # this function checks first if the input is one of these special bit strings\n",
    "    elif z==\"1000000000000000000000000000000000000000000000000000000000000000\":\n",
    "        return(-0)\n",
    "    elif z==\"0111111111110000000000000000000000000000000000000000000000000000\":\n",
    "        return(\"positiv infinity\")\n",
    "    elif z==\"1111111111110000000000000000000000000000000000000000000000000000\":\n",
    "        return(\"negativ infinity\")\n",
    "    elif z==\"1111111111111111111111111111111111111111111111111111111111111111\":\n",
    "        return(\"Not a Number\")\n",
    "    elif z==\"1111111111110000000000000000000000000000000000000000000000000001\":\n",
    "        return(\"Not a Number \")\n",
    "    else:        # if z is no special bit string:\n",
    "        vz = z[0]          # extracts the algebraic sign bit\n",
    "        Vz = int(vz)        # makes the algebraic sign bit an integer\n",
    "        exp = z[1:12]      # extracts the exponent bit\n",
    "        mt = z[12:64]      # extracts the significand (Mantisse) Bit\n",
    "        mat = [int(mt[x]) for x in range(0,52)] # makes a list with the 0's and 1's of the significand (Mantisse) Bit as integers\n",
    "        e = int(exp,base=2) # coverts the exponent bit into a decimal number\n",
    "        Mt = 0              # starting value for the sum\n",
    "        for n in range(0,52):      # calculates the decimal number according to the formular and the bit string\n",
    "            Mt = Mt + (mat[n] * 2**(-(n+1)))  # calculates the decimal place according to the formular and the significand Bit\n",
    "        \n",
    "        s = (-1)**Vz * 2**(e-1023) * (1+Mt) # calculates the decimal number\n",
    "    return(s)      # returns the decimal number s\n",
    "\n",
    "\n",
    "\n",
    "####### Example 1 #######\n",
    "s = \"0100000001011110110111010011110000000111111011100000101100001011\"\n",
    "print(gk(s))\n",
    "\n",
    "####### Example 2 #######\n",
    "x = \"0011111110111111100110100110101101010000101100001111001001111100\"\n",
    "print(gk(x))"
   ]
  },
  {
   "cell_type": "markdown",
   "metadata": {},
   "source": [
    "Der folgende Code fuehrt die umgekehrte Operation aus. Aus einer `float64` Gleitkommazahl wird die Bitfolge generiert, welche diese Zahl repraesentiert. Ueberpruefen Sie damit Ihre Berechnung."
   ]
  },
  {
   "cell_type": "code",
   "execution_count": 2,
   "metadata": {
    "collapsed": false
   },
   "outputs": [
    {
     "name": "stdout",
     "output_type": "stream",
     "text": [
      "0011111110111111100110100110101101010000101100001111001001111100\n"
     ]
    }
   ],
   "source": [
    "import numpy as np \n",
    "x=0.12345                           # schreiben Sie hier x=y, um die Bitfolge der float64 variable y zu erhalten\n",
    "b=np.array(x,dtype=np.float64)       # schreibt den Inhalt von x in ein Numpy array b\n",
    "b.dtype=np.int64                     # interpretiert den Inhalt von b als 64Bit ganze Zahl\n",
    "print(np.binary_repr(b,64))         # Ausgabe der Bitfolge fuer die ganze Zahl b"
   ]
  },
  {
   "cell_type": "markdown",
   "metadata": {},
   "source": [
    "### Zusatzaufgabe (+10%)"
   ]
  },
  {
   "cell_type": "markdown",
   "metadata": {},
   "source": [
    "- Schreiben Sie eine List Comprehension, welche zu zwei gegebenen ganzen Zahlen eine Liste aller gemeinsamen Teiler ausser `1` ausgibt.\n",
    "- Schreiben Sie eine List Comprehension, welche eine Liste mit teilerfremden Paaren `(p,q)` von positiven ganzen Zahlen mit jeweils genau einer Dezimalziffer erzeugt.\n",
    "- Schreiben Sie eine List Comprehension welche alle Paare `((p0,q0),(p1,q1))` aus einer Liste von Paaren `(p,q)` heraussucht, fuer die $p_0\\ne p_1$ und $\\frac{p_0}{q_0} = \\frac{p_1}{q_1}$ gilt. Welches Ergebnis erhalten Sie, wenn Sie diese List Comprehension ueber die Liste der teilerfremden Paare laufen lassen?"
   ]
  },
  {
   "cell_type": "code",
   "execution_count": 59,
   "metadata": {
    "collapsed": false
   },
   "outputs": [
    {
     "name": "stdout",
     "output_type": "stream",
     "text": [
      "[2, 3, 5, 6, 10, 15, 30]\n",
      "[5, -5, -1]\n",
      "[3, 5, -3, -5, -1]\n",
      "[-180, -90, -60, -45, -36, -30, -20, -18, -15, -12, -10, -9, -6, -5, -4, -3, -2, -1, 180, 90, 60, 45, 36, 30, 20, 18, 15, 12, 10, 9, 6, 5, 4, 3, 2]\n"
     ]
    }
   ],
   "source": [
    "# the following function creates a list of all positiv common divisors for any positiv integers p and q\n",
    "def gT(p,q):\n",
    "    if p>q:\n",
    "        T1 = [n for n in range(2,p) if p%n==0 and q%n==0] #weniger effizient als range(2,min(p,q)+1), stell dich vor gT(1e10,10)\n",
    "        return(T1)\n",
    "    else:\n",
    "        T2 = [n for n in range(2,q) if p%n==0 and q%n==0]\n",
    "        return(T2)\n",
    "    \n",
    "####### Example 1 #######\n",
    "print(gT(210,270))\n",
    "\n",
    "####### Alternativ #######\n",
    "# with negativ divisors\n",
    "\n",
    "def gTn(p,q):\n",
    "    if p>0 or q>0:\n",
    "        if p>q:\n",
    "            T1 = [n for n in range(2,p) if p%n==0 and q%n==0]\n",
    "            nT1 = [-T1[n] for n in range(0,len(T1))]\n",
    "            T1.extend(nT1)\n",
    "            T1.append(-1)\n",
    "            return(T1)\n",
    "        else:\n",
    "            T2 = [n for n in range(2,q) if p%n==0 and q%n==0]\n",
    "            nT2 = [-T2[n] for n in range(0,len(T2))]\n",
    "            T2.extend(nT2)\n",
    "            T2.append(-1)\n",
    "            return(T2)\n",
    "    else: \n",
    "        if p>q:\n",
    "            T1 = [n for n in range(p,0) if p%n==0 and q%n==0]\n",
    "            nT1 = [-T1[n] for n in range(0,len(T1))]\n",
    "            T1.extend(nT1)\n",
    "            T1.remove(1)\n",
    "            return(T1)\n",
    "        else:\n",
    "            T2 = [n for n in range(q,0) if p%n==0 and q%n==0]\n",
    "            nT2 = [-T2[n] for n in range(0,len(T2))]\n",
    "            T2.extend(nT2)\n",
    "            T2.remove(1)\n",
    "            return(T2)\n",
    "        \n",
    "####### Example 1 #######\n",
    "print(gTn(10,15))\n",
    "\n",
    "####### Example 2 #######\n",
    "print(gTn(-45,15))\n",
    "\n",
    "####### Example 3 #######\n",
    "print(gTn(-180,-360))"
   ]
  },
  {
   "cell_type": "code",
   "execution_count": 61,
   "metadata": {
    "collapsed": false
   },
   "outputs": [
    {
     "name": "stdout",
     "output_type": "stream",
     "text": [
      "[(1, 2), (1, 5), (2, 5), (3, 2), (3, 5), (4, 5), (5, 2)]\n",
      "[(1, 2), (1, 5), (1, 10), (2, 5), (3, 2), (3, 5), (3, 10), (4, 5), (5, 2), (6, 5), (7, 2), (7, 5), (7, 10), (8, 5), (9, 2), (9, 5), (9, 10), (11, 2), (11, 5), (11, 10), (12, 5), (13, 2), (13, 5), (13, 10), (14, 5), (15, 2), (16, 5), (17, 2), (17, 5), (17, 10), (18, 5), (19, 2), (19, 5), (19, 10)]\n"
     ]
    }
   ],
   "source": [
    "# the following function creates a list of pairs p and q with x being the smallest number greater than p and q.\n",
    "# the pairs of p and q are choosen by the following rules:\n",
    "# p and q have no commen divisor (except for one) p is not equal to q, q is not zero and\n",
    "# if you divide p by q the resulting number has one decimal place or less\n",
    "\n",
    "##how can p or q be zero if they are selected from range(1,x) range (2,x)?\n",
    "def pairs(x):\n",
    "    dec = [\".0\",\".1\",\".2\",\".3\",\".4\",\".5\",\".6\",\".7\",\".8\",\".9\"]\n",
    "    pairs = [(p,q) for p in range(1,x) for q in range(2,x) if gT(p,q)==[] and p!=q and q!=0 and (str(p/q)[-2]+str(p/q)[-1]) in dec]\n",
    "    return(pairs)\n",
    "\n",
    "####### Example 1 #######\n",
    "print(pairs(6))\n",
    "\n",
    "####### Example 2 #######\n",
    "print(pairs(20))"
   ]
  },
  {
   "cell_type": "code",
   "execution_count": 45,
   "metadata": {
    "collapsed": false
   },
   "outputs": [
    {
     "name": "stdout",
     "output_type": "stream",
     "text": [
      "[((1, 1), (2, 2)), ((1, 1), (3, 3)), ((1, 1), (4, 4)), ((1, 1), (5, 5)), ((1, 1), (6, 6)), ((1, 1), (7, 7)), ((1, 1), (8, 8)), ((1, 1), (9, 9)), ((1, 2), (2, 4)), ((1, 2), (3, 6)), ((1, 2), (4, 8)), ((1, 3), (2, 6)), ((1, 3), (3, 9)), ((1, 4), (2, 8)), ((2, 1), (4, 2)), ((2, 1), (6, 3)), ((2, 1), (8, 4)), ((2, 2), (1, 1)), ((2, 2), (3, 3)), ((2, 2), (4, 4)), ((2, 2), (5, 5)), ((2, 2), (6, 6)), ((2, 2), (7, 7)), ((2, 2), (8, 8)), ((2, 2), (9, 9)), ((2, 3), (4, 6)), ((2, 3), (6, 9)), ((2, 4), (1, 2)), ((2, 4), (3, 6)), ((2, 4), (4, 8)), ((2, 6), (1, 3)), ((2, 6), (3, 9)), ((2, 8), (1, 4)), ((3, 1), (6, 2)), ((3, 1), (9, 3)), ((3, 2), (6, 4)), ((3, 2), (9, 6)), ((3, 3), (1, 1)), ((3, 3), (2, 2)), ((3, 3), (4, 4)), ((3, 3), (5, 5)), ((3, 3), (6, 6)), ((3, 3), (7, 7)), ((3, 3), (8, 8)), ((3, 3), (9, 9)), ((3, 4), (6, 8)), ((3, 6), (1, 2)), ((3, 6), (2, 4)), ((3, 6), (4, 8)), ((3, 9), (1, 3)), ((3, 9), (2, 6)), ((4, 1), (8, 2)), ((4, 2), (2, 1)), ((4, 2), (6, 3)), ((4, 2), (8, 4)), ((4, 3), (8, 6)), ((4, 4), (1, 1)), ((4, 4), (2, 2)), ((4, 4), (3, 3)), ((4, 4), (5, 5)), ((4, 4), (6, 6)), ((4, 4), (7, 7)), ((4, 4), (8, 8)), ((4, 4), (9, 9)), ((4, 6), (2, 3)), ((4, 6), (6, 9)), ((4, 8), (1, 2)), ((4, 8), (2, 4)), ((4, 8), (3, 6)), ((5, 5), (1, 1)), ((5, 5), (2, 2)), ((5, 5), (3, 3)), ((5, 5), (4, 4)), ((5, 5), (6, 6)), ((5, 5), (7, 7)), ((5, 5), (8, 8)), ((5, 5), (9, 9)), ((6, 2), (3, 1)), ((6, 2), (9, 3)), ((6, 3), (2, 1)), ((6, 3), (4, 2)), ((6, 3), (8, 4)), ((6, 4), (3, 2)), ((6, 4), (9, 6)), ((6, 6), (1, 1)), ((6, 6), (2, 2)), ((6, 6), (3, 3)), ((6, 6), (4, 4)), ((6, 6), (5, 5)), ((6, 6), (7, 7)), ((6, 6), (8, 8)), ((6, 6), (9, 9)), ((6, 8), (3, 4)), ((6, 9), (2, 3)), ((6, 9), (4, 6)), ((7, 7), (1, 1)), ((7, 7), (2, 2)), ((7, 7), (3, 3)), ((7, 7), (4, 4)), ((7, 7), (5, 5)), ((7, 7), (6, 6)), ((7, 7), (8, 8)), ((7, 7), (9, 9)), ((8, 2), (4, 1)), ((8, 4), (2, 1)), ((8, 4), (4, 2)), ((8, 4), (6, 3)), ((8, 6), (4, 3)), ((8, 8), (1, 1)), ((8, 8), (2, 2)), ((8, 8), (3, 3)), ((8, 8), (4, 4)), ((8, 8), (5, 5)), ((8, 8), (6, 6)), ((8, 8), (7, 7)), ((8, 8), (9, 9)), ((9, 3), (3, 1)), ((9, 3), (6, 2)), ((9, 6), (3, 2)), ((9, 6), (6, 4)), ((9, 9), (1, 1)), ((9, 9), (2, 2)), ((9, 9), (3, 3)), ((9, 9), (4, 4)), ((9, 9), (5, 5)), ((9, 9), (6, 6)), ((9, 9), (7, 7)), ((9, 9), (8, 8))]\n"
     ]
    }
   ],
   "source": [
    "# the following function creates from a given list of pairs l a list with all the pairs that have the same result\n",
    "# when you divide them but not the same numerator\n",
    "\n",
    "def equals(l):\n",
    "    equals = [((p0,q0),(p1,q1)) for (p0,q0) in l for (p1,q1) in l if (p0/q0)==(p1/q1) and p0!=p1]\n",
    "    return(equals)\n",
    "\n",
    "####### Example #######\n",
    "pair = [(p,q) for p in range(10) for q in range(10) if q!=0] # all the pairs p and q for p and q smaller than 10\n",
    "print(equals(pair))\n"
   ]
  },
  {
   "cell_type": "code",
   "execution_count": null,
   "metadata": {
    "collapsed": true
   },
   "outputs": [],
   "source": [
    "+8"
   ]
  },
  {
   "cell_type": "markdown",
   "metadata": {},
   "source": [
    "------------------\n",
    "**nuetzliche Keyboard shotcuts**\n",
    "\n",
    "|              |               |\n",
    "|--------------|---------------|\n",
    "| `Esc`        | Kommando Modus   |\n",
    "| `Enter`      | Editier Modus    |\n",
    "|`Shift-Enter` | ausfuehren, Zelle darunter auswaehlen |\n",
    "|`Ctrl-Enter`  | ausfuehren, selbe Zelle auswaehlen    |\n",
    "|`Alt-Enter`   | ausfuehren, Zelle darunter einfuegen |\n",
    "| `b`          | Zelle unterhalb einfuegen |\n",
    "| `a`          | Zelle ueberhalb einfuegen |\n",
    "| `dd`          | Zelle loeschen |\n",
    "| `z`          | Zelle loeschen rueckgaengig machen |\n",
    "\n",
    "---------------------"
   ]
  }
 ],
 "metadata": {
  "anaconda-cloud": {},
  "kernelspec": {
   "display_name": "Python [default]",
   "language": "python",
   "name": "python3"
  },
  "language_info": {
   "codemirror_mode": {
    "name": "ipython",
    "version": 3
   },
   "file_extension": ".py",
   "mimetype": "text/x-python",
   "name": "python",
   "nbconvert_exporter": "python",
   "pygments_lexer": "ipython3",
   "version": "3.5.2"
  }
 },
 "nbformat": 4,
 "nbformat_minor": 1
}
