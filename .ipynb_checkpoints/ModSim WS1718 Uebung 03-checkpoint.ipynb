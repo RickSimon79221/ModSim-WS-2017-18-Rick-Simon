{
 "cells": [
  {
   "cell_type": "markdown",
   "metadata": {},
   "source": [
    "## Simulation und Modellierung WS 17/18 Uebung 03 : \n",
    "### Abgabe zum 04.11.2016"
   ]
  },
  {
   "cell_type": "markdown",
   "metadata": {},
   "source": [
    "### <u>Aufgabe 1</u> Erste Schritte mit Git"
   ]
  },
  {
   "cell_type": "markdown",
   "metadata": {},
   "source": [
    "Ziel dieser Aufgabe ist, die Lösung dieses kompletten Aufgabenblattes bei einem Git-Filehost (github) online zu stellen. An der hochgeladenen Version sollen Sie dann noch mindestens eine Änderung vornehmen.\n",
    "\n",
    "Nun der Reihenfolge nach: \n",
    "* Erstellen Sie einen Account bei Github mit einem `username`\n",
    "\n",
    "  https://github.com/\n",
    " \n",
    "  Erstellen Sie dort per Mausklick ein neues Repository, z.B. `my_repo`. (unter `new repository`)\n",
    "\n",
    "* Installieren Sie git auf Ihrem Arbeitsrechner:\n",
    "\n",
    "  #### Linux:\n",
    "  \n",
    "  `yum install git`\n",
    "  \n",
    "  `apt-get install git`\n",
    "  \n",
    "  `zypper in git`\n",
    "\n",
    "  #### Mac:\n",
    "  \n",
    "  `brew install git`\n",
    "  \n",
    "  https://git-scm.com/download/mac\n",
    "  \n",
    "  #### Windows:\n",
    "  \n",
    "  http://git-for-windows.github.io//\n",
    "\n",
    "  Setzen Sie dann eventuell Namen und Adresse.\n",
    "  \n",
    "  `git config --global user.name \"Your Name\"`\n",
    "  \n",
    "  `git config --global user.email you@example.com`\n",
    "\n",
    "\n",
    "* Initialisieren Sie git in einem neuen Ordner. Fügen Sie `my_repo.git` als origin hinzu. Speichern Sie dieses notebook im neuen Ordner. Führen Sie `git add .`, `git commit -m \"  \"` und `git push origin master` aus. Das alles geht im Terminal folgendermaßen:\n",
    "\n",
    "  ```bash\n",
    "      mkdir neuer_ordner\n",
    "      cd neuer_ordner\n",
    "      git init\n",
    "      git remote add origin https://username@bitbucket.org/username/my_repo.git\n",
    "      cp /path/to/notebook/my_notebook.ipynb my_notebook.ipynb\n",
    "      git add .\n",
    "      git commit -m \"Dieses notebook ist die Hausaufgabe Blatt 8, zunaechst unausgefuellt.\"\n",
    "      git push origin master  \n",
    "  ```\n",
    "  \n",
    "  Sehen Sie nach, ob Ihr notebook online ist.\n",
    "\n",
    "* Spielen Sie mit `git status`, `git log`, `git branch -av` .. herum und klicken Sie im Webfilehost herum, bis Sie sich ein wenig auskennen. Schreiben Sie Fragen für die Übung auf.\n",
    "\n",
    "* Nehmen Sie nun lokal auf Ihrem Rechner Änderungen am notebook vor, zum Beispiel indem Sie die Hausaufgaben lösen. Ändern Sie dies wie oben online: `git add .`, `git commit -m \"  \"`, `git push origin master`. Achten Sie auf sinnvolle commit-Kommentare.\n",
    "  \n",
    "  ```bash\n",
    "      git add .\n",
    "      git commit -m \"Aufg. 2 geloest, weitere Beispiele durchgerechnet.\"\n",
    "      git push origin master  \n",
    "  ```\n",
    "\n",
    "Senden Sie den https-Repository-Pfad an  cgong(at)uni-potsdam.de ."
   ]
  },
  {
   "cell_type": "markdown",
   "metadata": {},
   "source": [
    "### <u>Aufgabe 2</u> Darstellbarkeit und Vergleiche von Gleitkommazahlen"
   ]
  },
  {
   "cell_type": "markdown",
   "metadata": {},
   "source": [
    "Wieviele Zahlen $x$ mit $3\\le x < 4$ sind als `float64` Gleitkommazahlen darstellbar?"
   ]
  },
  {
   "cell_type": "markdown",
   "metadata": {
    "collapsed": true
   },
   "source": [
    "### Wieviele Zahlen x mit 3 $\\leq$ x $<$ 4 sind als float64  Gleitkommazahlen darstellbar?\n",
    "\n",
    "Bei den 64Bit-double-precision-Floating-Point-Zahlen werden 64 Bit benutzt.\n",
    "Das erste Bit für das Vorzeichen, die nächsten elf Bit für die Exponenten und die letzten 52 für die Nachkommastellen.\n",
    "Anhand der Formel zur Berechnung der Gleitkommazahlen, kann man sich die Lösung leicht erarbeiten:\n",
    "\n",
    "$$ (-1)^\\sigma * (1+\\sum_{l=1}^{52}*b_{-l}*2^{-l})*2^{(e-1023)}$$\n",
    "\n",
    "In der Formel wird e benutzt für die Exponenten, also die Zahl die wir mit unseren Exponenten Bits generieren.\n",
    "So stellen wir fest, dass wir für: 1000000000 (Binär) also 1024 in Dezimal als unseren Exponenten und nur Nullen bei den Mantissen-Bits die Zahl 2, da, dann am Ende übrig bleibt $2^{1024-1023}$ , was 2 ergibt. Für den nächst höheren Exponenten 1025 wäre das Ergebnis also 4. Daraus folgt, um eine Zahlen im Bereich von 3 bis 4 darzustellen, brauchen wir bei unseren Exponenten Bits 10000000000 und unser erstes Mantissen Bit muss 1 sein. Es bleiben also 51 Bits die wir varieren können um Zahlen im Bereich von 3 bis 4 darzustellen. 51-Bits bedeuten $2^{51}$ Möglichkeiten der Variation.\n",
    "Die Antwort ist also: Es sind für 3 $\\leq$ x $<$ 4 $\\hspace{0.5em}$ $2^{51}$ verschiedene Gleitkommazahlen darstellbar"
   ]
  },
  {
   "cell_type": "markdown",
   "metadata": {
    "collapsed": true
   },
   "source": [
    "Welchen Wahrheitswert hat der Ausdruck `(1.3-1.0) == 0.3` und warum?"
   ]
  },
  {
   "cell_type": "code",
   "execution_count": 11,
   "metadata": {},
   "outputs": [
    {
     "data": {
      "text/plain": [
       "False"
      ]
     },
     "execution_count": 11,
     "metadata": {},
     "output_type": "execute_result"
    }
   ],
   "source": [
    "bool((1.3-1.0) == 0.3) #ergibt false\n",
    "# Da 1.3 und 1.0 zwei Gleitkommazahlen mit einer nur endlichen Genauigkeit sind, ist die Subtraktion nur endlich genau, \n",
    "# während sich die Ungenauigkeiten addieren dadurch gibt es eine Abweichung vom eigentlichen Wert 0.3, \n",
    "# diese ist zwar sehr klein, allerdings groß genug um von python erfasst zu werden. So ist 1.3-0.3 = 0.30000000000000004 \n",
    "# also Ungleich dem Wert 0.3 den wir gesetzt haben. Da diese Ungleichheit besteht, ist der Wahrheitswert false."
   ]
  },
  {
   "cell_type": "markdown",
   "metadata": {},
   "source": [
    "Rick Simon M.-Nr. 792221 "
   ]
  }
 ],
 "metadata": {
  "anaconda-cloud": {},
  "kernelspec": {
   "display_name": "Python 3",
   "language": "python",
   "name": "python3"
  },
  "language_info": {
   "codemirror_mode": {
    "name": "ipython",
    "version": 3
   },
   "file_extension": ".py",
   "mimetype": "text/x-python",
   "name": "python",
   "nbconvert_exporter": "python",
   "pygments_lexer": "ipython3",
   "version": "3.6.2"
  }
 },
 "nbformat": 4,
 "nbformat_minor": 1
}
