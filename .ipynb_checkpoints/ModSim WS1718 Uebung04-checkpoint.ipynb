{
 "cells": [
  {
   "cell_type": "markdown",
   "metadata": {},
   "source": [
    "## Simulation und Modellierung WS17/18 - Uebung 04"
   ]
  },
  {
   "cell_type": "markdown",
   "metadata": {},
   "source": [
    "### Aufgabe 1\n",
    "\n",
    "- Schreiben Sie eine List Comprehension, welche zu einer gegebenen ganzen Zahl `p` eine Liste aller Teiler ausser `1` und `p` erstellt.\n",
    "- Schreiben Sie eine List Comprehension, welche eine Liste aller Primzahlen mit weniger als vier Dezimalziffern erstellt.\n",
    "- Ueberpruefen Sie anhand dieser Listen, ob `377` eine Primzahl ist.\n"
   ]
  },
  {
   "cell_type": "code",
   "execution_count": 4,
   "metadata": {
    "collapsed": true
   },
   "outputs": [],
   "source": [
    "# The following function takes a positiv integer p and gives out a list of all positiv integers, exept for 1 and p,\n",
    "# that divide p without a remainder \n",
    "\n",
    "def teiler(p):                                  \n",
    "    T = [x for x in range(2,p) if p%x == 0]\n",
    "    return(T)\n",
    "\n",
    "####### Alternativ #######\n",
    "# It could be argued that, since p is supposed to be a whole number, we have to take negative numbers in account.\n",
    "# If we have to take negativ numbers in account that also applies for the divider\n",
    "# The following function gives out all the positive and negative integers, exept for 1 and p, \n",
    "# which devide p without remainder.\n",
    "\n",
    "def zteiler(p):\n",
    "    if p>0:                                            # p is positive\n",
    "        T = [x for x in range(2,p) if p%x == 0]        # list of all positive dividers T (except 1 and p)\n",
    "        nT = [-T[n] for n in range(0,len(T))]          # list of all negative deviders nT (except -1 and -p)\n",
    "        T.extend(nT)                                   # adds nT to T\n",
    "        T.append(-1)                                   # adds (-1) to the list of dividers\n",
    "        T.append(-p)                                   # adds (-p) to the list of dividers\n",
    "        T.sort()                                       # arranges the dividers according to their size \n",
    "        return(T)                                      # returns T\n",
    "    \n",
    "    else:                                              # p is negative\n",
    "        T = [x for x in range(p,0) if p%x == 0]        # list of all negative deviders T \n",
    "        nT = [-T[n] for n in range(0,len(T))]          # creates a list nT with the positiv equivalents of T\n",
    "        T.extend(nT)                                   # adds nT to T\n",
    "        T.remove(1)                                    # removes 1 from the list of dividers\n",
    "        T.remove(p)                                    # removes p from the list of dividers\n",
    "        T.sort()                                       # arranges the dividers according to their size \n",
    "        return(T)                                      # returns T"
   ]
  },
  {
   "cell_type": "code",
   "execution_count": 10,
   "metadata": {},
   "outputs": [
    {
     "name": "stdout",
     "output_type": "stream",
     "text": [
      "[1, 2, 3, 5, 7, 11, 13, 17, 19, 23, 29, 31, 37, 41, 43, 47, 53, 59, 61, 67, 71, 73, 79, 83, 89, 97, 101, 103, 107, 109, 113, 127, 131, 137, 139, 149, 151, 157, 163, 167, 173, 179, 181, 191, 193, 197, 199, 211, 223, 227, 229, 233, 239, 241, 251, 257, 263, 269, 271, 277, 281, 283, 293, 307, 311, 313, 317, 331, 337, 347, 349, 353, 359, 367, 373, 379, 383, 389, 397, 401, 409, 419, 421, 431, 433, 439, 443, 449, 457, 461, 463, 467, 479, 487, 491, 499, 503, 509, 521, 523, 541, 547, 557, 563, 569, 571, 577, 587, 593, 599, 601, 607, 613, 617, 619, 631, 641, 643, 647, 653, 659, 661, 673, 677, 683, 691, 701, 709, 719, 727, 733, 739, 743, 751, 757, 761, 769, 773, 787, 797, 809, 811, 821, 823, 827, 829, 839, 853, 857, 859, 863, 877, 881, 883, 887, 907, 911, 919, 929, 937, 941, 947, 953, 967, 971, 977, 983, 991, 997]\n"
     ]
    }
   ],
   "source": [
    "P = [r for r in range(2,1000) if teiler(r)==[] ]       # List P with elements r from 2 to 999 for which th function 'teiler' gives out an empty list.\n",
    "                                                       # Or in other words: a list of numbers that have no dividers except for 1 and r.\n",
    "                                                       # 1 is not in this list because it has only one divider which is 1=p, while for primes p is supposed to be different from 1\n",
    "                                                       # short: 1 is normally not considered prime.\n",
    "print(P)                                               # gives out the list P"
   ]
  },
  {
   "cell_type": "markdown",
   "metadata": {},
   "source": [
    "### Aufgabe 2\n",
    "\n",
    "Schreiben Sie Python Code, welcher die Gleitkommazahl, welche durch eine gegebene 64 Bitfolge beschrieben wird berechnet. \n",
    "\n",
    "z.B. : `s = \"0100000001011110110111010011110000000111111011100000101100001011\"`\n",
    "\n",
    "*Hinweis :* Sie koennen eine Bitfolge `s` durch `int(s,base=2)` in eine ganze Zahl umwandeln."
   ]
  },
  {
   "cell_type": "code",
   "execution_count": 6,
   "metadata": {
    "collapsed": true
   },
   "outputs": [],
   "source": [
    "# The following function takes a string of 0's and 1's with length 64 and gives out \n",
    "# the equivalent double precision floating point number\n",
    "\n",
    "def gk(z):\n",
    "    if z==\"0000000000000000000000000000000000000000000000000000000000000000\":\n",
    "        return(0)\n",
    "    elif z==\"1000000000000000000000000000000000000000000000000000000000000000\":\n",
    "        return(-0)\n",
    "    elif z==\"0111111111110000000000000000000000000000000000000000000000000000\":\n",
    "        return(\"positiv infinity\")\n",
    "    elif z==\"1111111111110000000000000000000000000000000000000000000000000000\":\n",
    "        return(\"negativ infinity\")\n",
    "    elif z==\"1111111111111111111111111111111111111111111111111111111111111111\":\n",
    "        return(\"Not a Number\")\n",
    "    elif z==\"1111111111110000000000000000000000000000000000000000000000000001\":\n",
    "        return(\"Not a Number \")\n",
    "    else:\n",
    "        bit = str(z)         \n",
    "        vz = bit[0]          \n",
    "        Vz = int(vz)        \n",
    "        exp = bit[1:12]      \n",
    "        mt = bit[12:64] \n",
    "        mat = [int(mt[x]) for x in range(0,52)]\n",
    "        e = int(exp,base=2)\n",
    "        Mt = 0\n",
    "        for n in range(0,52):\n",
    "            Mt = Mt + (mat[n] * 2**(-(n+1)))\n",
    "            s = (-1)**Vz * 2**(e-1023) * (1+Mt)\n",
    "    return(s)"
   ]
  },
  {
   "cell_type": "markdown",
   "metadata": {},
   "source": [
    "Der folgende Code fuehrt die umgekehrte Operation aus. Aus einer `float64` Gleitkommazahl wird die Bitfolge generiert, welche diese Zahl repraesentiert. Ueberpruefen Sie damit Ihre Berechnung."
   ]
  },
  {
   "cell_type": "code",
   "execution_count": 2,
   "metadata": {},
   "outputs": [
    {
     "name": "stdout",
     "output_type": "stream",
     "text": [
      "0011111110111111100110100110101101010000101100001111001001111100\n"
     ]
    }
   ],
   "source": [
    "import numpy as np \n",
    "x=0.12345                           # schreiben Sie hier x=y, um die Bitfolge der float64 variable y zu erhalten\n",
    "b=np.array(x,dtype=np.float64)       # schreibt den Inhalt von x in ein Numpy array b\n",
    "b.dtype=np.int64                     # interpretiert den Inhalt von b als 64Bit ganze Zahl\n",
    "print(np.binary_repr(b,64))         # Ausgabe der Bitfolge fuer die ganze Zahl b"
   ]
  },
  {
   "cell_type": "markdown",
   "metadata": {},
   "source": [
    "### Zusatzaufgabe (+10%)"
   ]
  },
  {
   "cell_type": "markdown",
   "metadata": {},
   "source": [
    "- Schreiben Sie eine List Comprehension, welche zu zwei gegebenen ganzen Zahlen eine Liste aller gemeinsamen Teiler ausser `1` ausgibt.\n",
    "- Schreiben Sie eine List Comprehension, welche eine Liste mit teilerfremden Paaren `(p,q)` von positiven ganzen Zahlen mit jeweils genau einer Dezimalziffer erzeugt.\n",
    "- Schreiben Sie eine List Comprehension welche alle Paare `((p0,q0),(p1,q1))` aus einer Liste von Paaren `(p,q)` heraussucht, fuer die $p_0\\ne p_1$ und $\\frac{p_0}{q_0} = \\frac{p_1}{q_1}$ gilt. Welches Ergebnis erhalten Sie, wenn Sie diese List Comprehension ueber die Liste der teilerfremden Paare laufen lassen?"
   ]
  },
  {
   "cell_type": "code",
   "execution_count": 1,
   "metadata": {
    "collapsed": true
   },
   "outputs": [],
   "source": [
    "def gT(p,q):\n",
    "    if p>q:\n",
    "        T1 = [n for n in range(2,p) if p%n==0 and q%n==0]\n",
    "        return(T1)\n",
    "    else:\n",
    "        T2 = [n for n in range(2,q) if p%n==0 and q%n==0]\n",
    "        return(T2)\n",
    "\n",
    "####### Alternativ #######\n",
    "\n",
    "def gTn(p,q):\n",
    "    if p>q:\n",
    "        T1 = [n for n in range(2,p) if p%n==0 and q%n==0]\n",
    "        nT1 = [-T1[n] for n in range(0,len(T1))]\n",
    "        T1.extend(nT1)\n",
    "        T1.append(-1)\n",
    "        return(T1)\n",
    "    else:\n",
    "        T2 = [n for n in range(2,q) if p%n==0 and q%n==0]\n",
    "        nT2 = [-T2[n] for n in range(0,len(T2))]\n",
    "        T2.extend(nT2)\n",
    "        T2.append(-1)\n",
    "        return(T2)"
   ]
  },
  {
   "cell_type": "code",
   "execution_count": 2,
   "metadata": {
    "collapsed": true
   },
   "outputs": [],
   "source": [
    "def pairs(x):\n",
    "    dec = [\".0\",\".1\",\".2\",\".3\",\".4\",\".5\",\".6\",\".7\",\".8\",\".9\"]\n",
    "    pairs = [(p,q) for p in range(1,x) for q in range(2,x) if gT(p,q)==[] and p!=q and q!=0 and (str(p/q)[-2]+str(p/q)[-1]) in dec]\n",
    "    return(pairs)"
   ]
  },
  {
   "cell_type": "code",
   "execution_count": 15,
   "metadata": {},
   "outputs": [
    {
     "data": {
      "text/plain": [
       "[]"
      ]
     },
     "execution_count": 15,
     "metadata": {},
     "output_type": "execute_result"
    }
   ],
   "source": [
    "pair = [(p,q) for p in range(10) for q in range(10) if q!=0]\n",
    "def equals(l):\n",
    "    equals = [((p0,q0),(p1,q1)) for (p0,q0) in l for (p1,q1) in l if (p0/q0)==(p1/q1) and p0!=p1]\n",
    "    return(equals)"
   ]
  },
  {
   "cell_type": "markdown",
   "metadata": {},
   "source": [
    "------------------\n",
    "**nuetzliche Keyboard shotcuts**\n",
    "\n",
    "|              |               |\n",
    "|--------------|---------------|\n",
    "| `Esc`        | Kommando Modus   |\n",
    "| `Enter`      | Editier Modus    |\n",
    "|`Shift-Enter` | ausfuehren, Zelle darunter auswaehlen |\n",
    "|`Ctrl-Enter`  | ausfuehren, selbe Zelle auswaehlen    |\n",
    "|`Alt-Enter`   | ausfuehren, Zelle darunter einfuegen |\n",
    "| `b`          | Zelle unterhalb einfuegen |\n",
    "| `a`          | Zelle ueberhalb einfuegen |\n",
    "| `dd`          | Zelle loeschen |\n",
    "| `z`          | Zelle loeschen rueckgaengig machen |\n",
    "\n",
    "---------------------"
   ]
  }
 ],
 "metadata": {
  "kernelspec": {
   "display_name": "Python 3",
   "language": "python",
   "name": "python3"
  },
  "language_info": {
   "codemirror_mode": {
    "name": "ipython",
    "version": 3
   },
   "file_extension": ".py",
   "mimetype": "text/x-python",
   "name": "python",
   "nbconvert_exporter": "python",
   "pygments_lexer": "ipython3",
   "version": "3.6.2"
  }
 },
 "nbformat": 4,
 "nbformat_minor": 1
}
